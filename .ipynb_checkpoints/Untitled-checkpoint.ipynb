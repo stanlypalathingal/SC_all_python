{
 "cells": [
  {
   "cell_type": "code",
   "execution_count": 9,
   "metadata": {},
   "outputs": [
    {
     "name": "stdout",
     "output_type": "stream",
     "text": [
      "<_io.TextIOWrapper name='test1.csv' mode='r' encoding='cp1252'>\n",
      "<_io.TextIOWrapper name='test1.csv' mode='r' encoding='cp1252'>\n",
      "<_io.TextIOWrapper name='test1.csv' mode='r' encoding='cp1252'>\n",
      "<_io.TextIOWrapper name='test1.csv' mode='r' encoding='cp1252'>\n",
      "<_io.TextIOWrapper name='test1.csv' mode='r' encoding='cp1252'>\n",
      "<_io.TextIOWrapper name='test1.csv' mode='r' encoding='cp1252'>\n",
      "<_io.TextIOWrapper name='test1.csv' mode='r' encoding='cp1252'>\n",
      "<_io.TextIOWrapper name='test1.csv' mode='r' encoding='cp1252'>\n",
      "<_io.TextIOWrapper name='test1.csv' mode='r' encoding='cp1252'>\n",
      "<_io.TextIOWrapper name='test1.csv' mode='r' encoding='cp1252'>\n",
      "<_io.TextIOWrapper name='test1.csv' mode='r' encoding='cp1252'>\n",
      "<_io.TextIOWrapper name='test1.csv' mode='r' encoding='cp1252'>\n",
      "<_io.TextIOWrapper name='test1.csv' mode='r' encoding='cp1252'>\n",
      "<_io.TextIOWrapper name='test1.csv' mode='r' encoding='cp1252'>\n",
      "<_io.TextIOWrapper name='test1.csv' mode='r' encoding='cp1252'>\n",
      "<_io.TextIOWrapper name='test1.csv' mode='r' encoding='cp1252'>\n",
      "<_io.TextIOWrapper name='test1.csv' mode='r' encoding='cp1252'>\n",
      "<_io.TextIOWrapper name='test1.csv' mode='r' encoding='cp1252'>\n",
      "<_io.TextIOWrapper name='test1.csv' mode='r' encoding='cp1252'>\n",
      "<_io.TextIOWrapper name='test1.csv' mode='r' encoding='cp1252'>\n",
      "<_io.TextIOWrapper name='test1.csv' mode='r' encoding='cp1252'>\n",
      "<_io.TextIOWrapper name='test1.csv' mode='r' encoding='cp1252'>\n",
      "<_io.TextIOWrapper name='test1.csv' mode='r' encoding='cp1252'>\n",
      "<_io.TextIOWrapper name='test1.csv' mode='r' encoding='cp1252'>\n",
      "<_io.TextIOWrapper name='test1.csv' mode='r' encoding='cp1252'>\n",
      "<_io.TextIOWrapper name='test1.csv' mode='r' encoding='cp1252'>\n",
      "<_io.TextIOWrapper name='test1.csv' mode='r' encoding='cp1252'>\n",
      "<_io.TextIOWrapper name='test1.csv' mode='r' encoding='cp1252'>\n"
     ]
    }
   ],
   "source": [
    "with open(\"test1.csv\",'r') as doc:\n",
    "    for line in doc:\n",
    "        print(str(doc))"
   ]
  },
  {
   "cell_type": "code",
   "execution_count": 10,
   "metadata": {},
   "outputs": [
    {
     "ename": "NameError",
     "evalue": "name 'listToString' is not defined",
     "output_type": "error",
     "traceback": [
      "\u001b[1;31m---------------------------------------------------------------------------\u001b[0m",
      "\u001b[1;31mNameError\u001b[0m                                 Traceback (most recent call last)",
      "\u001b[1;32m<ipython-input-10-177ab6ff8c1c>\u001b[0m in \u001b[0;36m<module>\u001b[1;34m\u001b[0m\n\u001b[0;32m      3\u001b[0m     \u001b[0mrow_reader\u001b[0m \u001b[1;33m=\u001b[0m \u001b[0mcsv\u001b[0m\u001b[1;33m.\u001b[0m\u001b[0mreader\u001b[0m\u001b[1;33m(\u001b[0m\u001b[0mlines\u001b[0m\u001b[1;33m)\u001b[0m\u001b[1;33m\u001b[0m\u001b[1;33m\u001b[0m\u001b[0m\n\u001b[0;32m      4\u001b[0m     \u001b[1;32mfor\u001b[0m \u001b[0mrow\u001b[0m \u001b[1;32min\u001b[0m \u001b[0mrow_reader\u001b[0m\u001b[1;33m:\u001b[0m\u001b[1;33m\u001b[0m\u001b[1;33m\u001b[0m\u001b[0m\n\u001b[1;32m----> 5\u001b[1;33m         \u001b[0mprint\u001b[0m\u001b[1;33m(\u001b[0m\u001b[0mlistToString\u001b[0m\u001b[1;33m(\u001b[0m\u001b[0mrow\u001b[0m\u001b[1;33m)\u001b[0m\u001b[1;33m)\u001b[0m\u001b[1;33m\u001b[0m\u001b[1;33m\u001b[0m\u001b[0m\n\u001b[0m",
      "\u001b[1;31mNameError\u001b[0m: name 'listToString' is not defined"
     ]
    }
   ],
   "source": [
    "import csv\n",
    "with open(\"test1.csv\",'r') as lines:\n",
    "    row_reader = csv.reader(lines)\n",
    "    for row in row_reader:\n",
    "        print(listToString(row))"
   ]
  },
  {
   "cell_type": "code",
   "execution_count": null,
   "metadata": {},
   "outputs": [],
   "source": [
    "import pandas as pd\n",
    "df=pd.read_csv(\"test1.csv\")\n",
    "for x in range(0,df.shape[0]):\n",
    "\n",
    "    # publishResult(df[x])\n",
    "\n",
    "    Type=str(df['Type'][x])+\",\"+str(df['Value'][x])+\",\"+str(df['Timestamp'][x])+\",\"+str(df['Sensor'][x])+\",\"+str(df['Units'][x])\n",
    "\n",
    "    publishResult(Type)"
   ]
  }
 ],
 "metadata": {
  "kernelspec": {
   "display_name": "Python 3",
   "language": "python",
   "name": "python3"
  },
  "language_info": {
   "codemirror_mode": {
    "name": "ipython",
    "version": 3
   },
   "file_extension": ".py",
   "mimetype": "text/x-python",
   "name": "python",
   "nbconvert_exporter": "python",
   "pygments_lexer": "ipython3",
   "version": "3.7.5"
  }
 },
 "nbformat": 4,
 "nbformat_minor": 2
}
